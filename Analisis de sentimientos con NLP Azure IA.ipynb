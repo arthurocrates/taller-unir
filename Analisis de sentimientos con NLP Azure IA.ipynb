{
  "cells": [
    {
      "cell_type": "markdown",
      "metadata": {
        "id": "KWhH9fO4CJJb"
      },
      "source": [
        "# Analisis de sentimientos con Azure IA"
      ]
    },
    {
      "cell_type": "markdown",
      "metadata": {},
      "source": [
        "Partiipantes: Alexandra, Noelia, Arturo"
      ]
    },
    {
      "cell_type": "markdown",
      "metadata": {},
      "source": [
        "## Descripcion"
      ]
    },
    {
      "cell_type": "markdown",
      "metadata": {},
      "source": [
        "\n",
        "\n",
        "En este laboratorio obtendremos el analisis de sentimientos de los tweets de personajes representativos de la politica, en este caso aplicado a Colombia"
      ]
    },
    {
      "cell_type": "markdown",
      "metadata": {},
      "source": [
        "## Primeros pasos"
      ]
    },
    {
      "cell_type": "markdown",
      "metadata": {},
      "source": [
        "### 1. Obtener la API de Azure IA"
      ]
    },
    {
      "cell_type": "markdown",
      "metadata": {
        "id": "CgG-ViMbCem-"
      },
      "source": [
        "## >>> Instrucciones para obtener la API"
      ]
    },
    {
      "cell_type": "markdown",
      "metadata": {
        "id": "vBVyIgj7_NOT"
      },
      "source": [
        "En el siguiente enlace encuentras la documentacion para obtener el codigo requerido para ejecutar este laboratorio\n",
        "\n",
        "https://docs.microsoft.com/en-us/azure/cognitive-services/text-analytics/quickstarts/client-libraries-rest-api?tabs=version-3-1&pivots=programming-language-python"
      ]
    },
    {
      "cell_type": "markdown",
      "metadata": {},
      "source": [
        "## 2. Instalar paqueten necesarios para la ejecucion"
      ]
    },
    {
      "cell_type": "code",
      "execution_count": null,
      "metadata": {
        "colab": {
          "base_uri": "https://localhost:8080/"
        },
        "id": "mpb6LiEQdOqM",
        "outputId": "01c20930-41f6-4251-ab1d-70c8fae3edb1"
      },
      "outputs": [],
      "source": [
        "pip install azure-ai-textanalytics --pre"
      ]
    },
    {
      "cell_type": "markdown",
      "metadata": {},
      "source": [
        "## 3. Crear variables con los datos de la API requeridos para la autenticacion"
      ]
    },
    {
      "cell_type": "code",
      "execution_count": null,
      "metadata": {
        "id": "Jm7BEMqwbIdi"
      },
      "outputs": [],
      "source": [
        "key = \"f50803fe315d4b51816867f0d1da98a0\" \n",
        "endpoint = \"https://tekstoanalizo.cognitiveservices.azure.com/\""
      ]
    },
    {
      "cell_type": "markdown",
      "metadata": {},
      "source": [
        "## 4. Importar las librerias necesarias para el llamado de la API"
      ]
    },
    {
      "cell_type": "code",
      "execution_count": null,
      "metadata": {
        "id": "XBj3jNZgpYzg"
      },
      "outputs": [],
      "source": [
        "from azure.ai.textanalytics import TextAnalyticsClient\n",
        "from azure.core.credentials import AzureKeyCredential"
      ]
    },
    {
      "cell_type": "markdown",
      "metadata": {},
      "source": [
        "## 5. Establecer los parametros de autenticacion"
      ]
    },
    {
      "cell_type": "code",
      "execution_count": null,
      "metadata": {},
      "outputs": [],
      "source": [
        "def autenticar_con_azure():\n",
        "    ta_credential = AzureKeyCredential(key)\n",
        "    text_analytics_client = TextAnalyticsClient(\n",
        "            endpoint=endpoint, \n",
        "            credential=ta_credential)\n",
        "    return text_analytics_client\n",
        "\n",
        "client = autenticar_con_azure()"
      ]
    },
    {
      "cell_type": "markdown",
      "metadata": {},
      "source": [
        "## 6. Establecer los parametros de lectura del dataset a analizar"
      ]
    },
    {
      "cell_type": "code",
      "execution_count": null,
      "metadata": {},
      "outputs": [],
      "source": [
        "import csv\n",
        "\n",
        "with open('dataset.csv') as csvfile:\n",
        "    readCSV = csv.reader(csvfile, delimiter=',')\n",
        "    for row in readCSV:\n",
        "        datumo=row[0]\n",
        "        print(f'Datos de prueba: {datumo}')"
      ]
    },
    {
      "cell_type": "markdown",
      "metadata": {},
      "source": [
        "## 7. Ejecutar el analisis del dataset"
      ]
    },
    {
      "cell_type": "markdown",
      "metadata": {},
      "source": [
        "## Analisis de sentimientos"
      ]
    },
    {
      "cell_type": "code",
      "execution_count": 30,
      "metadata": {
        "colab": {
          "base_uri": "https://localhost:8080/"
        },
        "id": "oyz_1r-z9XTw",
        "outputId": "eeebccdf-d3af-4a92-a8af-9bc0edd2b804"
      },
      "outputs": [
        {
          "name": "stdout",
          "output_type": "stream",
          "text": [
            "Sentimiento del documento: negative\n",
            "Puntajes generales: positivo=0.06; neutral=0.14; negativo=0.80 \n",
            "\n",
            "Frase: Apoyemos el derecho de soldados y policías de utilizar sus armas para defender su integridad y para defender a las personas y bienes de la acción criminal del terrorismo vandálico\n",
            "Frase 1 sentimiento: negative\n",
            "Puntuacion de la frase:\n",
            "Positivo=0.06\n",
            "Neutral=0.14\n",
            "Negativo=0.80\n",
            "\n"
          ]
        }
      ],
      "source": [
        "def analisis_sentimientos(client):\n",
        "\n",
        "    documents = [datumo]\n",
        "    response = client.analyze_sentiment(documents=documents)[0]\n",
        "    print(\"Sentimiento del documento: {}\".format(response.sentiment))\n",
        "    print(\"Puntajes generales: positivo={0:.2f}; neutral={1:.2f}; negativo={2:.2f} \\n\".format(\n",
        "        response.confidence_scores.positive,\n",
        "        response.confidence_scores.neutral,\n",
        "        response.confidence_scores.negative,\n",
        "    ))\n",
        "    for idx, sentence in enumerate(response.sentences):\n",
        "        print(\"Frase: {}\".format(sentence.text))\n",
        "        print(\"Frase {} sentimiento: {}\".format(idx+1, sentence.sentiment))\n",
        "        print(\"Puntuacion de la frase:\\nPositivo={0:.2f}\\nNeutral={1:.2f}\\nNegativo={2:.2f}\\n\".format(\n",
        "            sentence.confidence_scores.positive,\n",
        "            sentence.confidence_scores.neutral,\n",
        "            sentence.confidence_scores.negative,\n",
        "        ))\n",
        "\n",
        "analisis_sentimientos(client)"
      ]
    },
    {
      "cell_type": "markdown",
      "metadata": {},
      "source": [
        ">> Como podemos ver el primer resultado del analisis, es que el sentimiento expresado en ese tweet es **Negativo**"
      ]
    },
    {
      "cell_type": "markdown",
      "metadata": {},
      "source": [
        "## Extraccion de palabras clave "
      ]
    },
    {
      "cell_type": "code",
      "execution_count": null,
      "metadata": {
        "colab": {
          "base_uri": "https://localhost:8080/"
        },
        "id": "4pSBM88D-apG",
        "outputId": "3a864f14-1941-4fa9-f14b-fcca182f4115"
      },
      "outputs": [],
      "source": [
        "def extraccion_frases_clave(client):\n",
        "\n",
        "    try:\n",
        "        documents = [datumo]\n",
        "\n",
        "        response = client.extract_key_phrases(documents = documents)[0]\n",
        "\n",
        "        if not response.is_error:\n",
        "            print(\"\\tFrases Clave:\")\n",
        "            for phrase in response.key_phrases:\n",
        "                print(\"\\t\\t\", phrase)\n",
        "        else:\n",
        "            print(response.id, response.error)\n",
        "\n",
        "    except Exception as err:\n",
        "        print(\"Excepción encontrada. {}\".format(err))\n",
        "        \n",
        "extraccion_frases_clave(client)"
      ]
    },
    {
      "cell_type": "markdown",
      "metadata": {},
      "source": [
        "## Otras pruebas de funcionalidades"
      ]
    },
    {
      "cell_type": "markdown",
      "metadata": {},
      "source": [
        "### Anaisis de sentimientos mediante mineria de opiniones"
      ]
    },
    {
      "cell_type": "code",
      "execution_count": null,
      "metadata": {
        "colab": {
          "base_uri": "https://localhost:8080/",
          "height": 341
        },
        "id": "wrzb0DfK9pHV",
        "outputId": "da676645-832d-4403-d316-68cbbf2a39dd"
      },
      "outputs": [],
      "source": [
        "def analisis_sentimientos_mineria_opiniones(client):\n",
        "\n",
        "    documents = [datumo]\n",
        "\n",
        "    result = client.analyze_sentiment(documents, show_opinion_mining=True)\n",
        "    doc_result = [doc for doc in result if not doc.is_error]\n",
        "\n",
        "    positive_reviews = [doc for doc in doc_result if doc.sentiment == \"positivo\"]\n",
        "    negative_reviews = [doc for doc in doc_result if doc.sentiment == \"negativo\"]\n",
        "\n",
        "    positive_mined_opinions = []\n",
        "    mixed_mined_opinions = []\n",
        "    negative_mined_opinions = []\n",
        "\n",
        "    for document in doc_result:\n",
        "        print(\"Sentimiento del documento: {}\".format(document.sentiment))\n",
        "        print(\"Puntajes generales: positivo={0:.2f}; neutral={1:.2f}; negativo={2:.2f} \\n\".format(\n",
        "            document.confidence_scores.positive,\n",
        "            document.confidence_scores.neutral,\n",
        "            document.confidence_scores.negative,\n",
        "        ))\n",
        "        for sentence in document.sentences:\n",
        "            print(\"Frase: {}\".format(sentence.text))\n",
        "            print(\"Sentimiento de la frase: {}\".format(sentence.sentiment))\n",
        "            print(\"Puntuacion de la frase:\\nPositivo={0:.2f}\\nNeutral={1:.2f}\\nNegativo={2:.2f}\\n\".format(\n",
        "                sentence.confidence_scores.positive,\n",
        "                sentence.confidence_scores.neutral,\n",
        "                sentence.confidence_scores.negative,\n",
        "            ))\n",
        "            for mined_opinion in sentence.mined_opinions:\n",
        "                target = mined_opinion.target\n",
        "                print(\"......'{}' target '{}'\".format(target.sentiment, target.text))\n",
        "                print(\"......Target score:\\n......Positivo{0:.2f}\\n......Negativo={1:.2f}\\n\".format(\n",
        "                    target.confidence_scores.positive,\n",
        "                    target.confidence_scores.negative,\n",
        "                ))\n",
        "                for assessment in mined_opinion.assessments:\n",
        "                    print(\"......'{}' assessment '{}'\".format(assessment.sentiment, assessment.text))\n",
        "                    print(\"......Assessment score:\\n......Positivo={0:.2f}\\n......Negativo={1:.2f}\\n\".format(\n",
        "                        assessment.confidence_scores.positive,\n",
        "                        assessment.confidence_scores.negative,\n",
        "                    ))\n",
        "            print(\"\\n\")\n",
        "        print(\"\\n\")\n",
        "\n",
        "analisis_sentimientos_mineria_opiniones(client)"
      ]
    },
    {
      "cell_type": "markdown",
      "metadata": {},
      "source": [
        "### Extraccion de entidades vinculadas al texto"
      ]
    },
    {
      "cell_type": "code",
      "execution_count": null,
      "metadata": {
        "colab": {
          "base_uri": "https://localhost:8080/"
        },
        "id": "nDPgnY_o9qCl",
        "outputId": "b8461cb8-dbf8-4914-e33d-0bdad4d32f1b"
      },
      "outputs": [],
      "source": [
        "def Entitades_vinculadas(client):\n",
        "\n",
        "    try:\n",
        "        documents = [datumo]\n",
        "        result = client.recognize_linked_entities(documents = documents)[0]\n",
        "\n",
        "        print(\"Entidades vinculadas:\\n\")\n",
        "        for entity in result.entities:\n",
        "            print(\"\\tName: \", entity.name, \"\\tId: \", entity.data_source_entity_id, \"\\tUrl: \", entity.url,\n",
        "            \"\\n\\tData Source: \", entity.data_source)\n",
        "            print(\"\\tMatches:\")\n",
        "            for match in entity.matches:\n",
        "                print(\"\\t\\tText:\", match.text)\n",
        "                print(\"\\t\\tConfidence Score: {0:.2f}\".format(match.confidence_score))\n",
        "                print(\"\\t\\tOffset: {}\".format(match.offset))\n",
        "                print(\"\\t\\tLength: {}\".format(match.length))\n",
        "            \n",
        "    except Exception as err:\n",
        "        print(\"Excepción encontrada. {}\".format(err))\n",
        "Entitades_vinculadas(client)"
      ]
    },
    {
      "cell_type": "markdown",
      "metadata": {},
      "source": [
        "## Referencias"
      ]
    },
    {
      "cell_type": "markdown",
      "metadata": {},
      "source": [
        "- https://azure.microsoft.com/es-mx/services/cognitive-services/text-analytics/\n",
        "- https://docs.microsoft.com/en-us/azure/cognitive-services/text-analytics/quickstarts/client-libraries-rest-api\n"
      ]
    },
    {
      "cell_type": "markdown",
      "metadata": {},
      "source": []
    }
  ],
  "metadata": {
    "interpreter": {
      "hash": "4f946df053fbf2b937619d3c5458e7af74262f9a954d8797ba0b27400bcafe06"
    },
    "kernelspec": {
      "display_name": "Python 3.10.4 64-bit",
      "language": "python",
      "name": "python3"
    },
    "language_info": {
      "codemirror_mode": {
        "name": "ipython",
        "version": 3
      },
      "file_extension": ".py",
      "mimetype": "text/x-python",
      "name": "python",
      "nbconvert_exporter": "python",
      "pygments_lexer": "ipython3",
      "version": "3.10.4"
    },
    "metadata": {
      "interpreter": {
        "hash": "aee8b7b246df8f9039afb4144a1f6fd8d2ca17a180786b69acc140d282b71a49"
      }
    },
    "orig_nbformat": 3
  },
  "nbformat": 4,
  "nbformat_minor": 0
}
